{
 "cells": [
  {
   "cell_type": "code",
   "execution_count": 2,
   "metadata": {},
   "outputs": [],
   "source": [
    "from __future__ import print_function"
   ]
  },
  {
   "cell_type": "code",
   "execution_count": 3,
   "metadata": {},
   "outputs": [],
   "source": [
    "from random import randint"
   ]
  },
  {
   "cell_type": "code",
   "execution_count": 4,
   "metadata": {},
   "outputs": [],
   "source": [
    "def matrix():\n",
    "    return [[0 for _ in range(9)] for _ in range(9)]"
   ]
  },
  {
   "cell_type": "code",
   "execution_count": 5,
   "metadata": {},
   "outputs": [],
   "source": [
    "def print_sudoku(s):\n",
    "    for e in s:\n",
    "        print(e, end=\"\\n\")"
   ]
  },
  {
   "cell_type": "code",
   "execution_count": 6,
   "metadata": {},
   "outputs": [],
   "source": [
    "def trasponi(matrice):  \n",
    "    trasposta = matrix()\n",
    "    for i in range(len(matrice)):  \n",
    "        for j in range(len(matrice)):  \n",
    "            trasposta[j][i] = matrice[i][j]  \n",
    "    return trasposta"
   ]
  },
  {
   "cell_type": "code",
   "execution_count": 74,
   "metadata": {},
   "outputs": [],
   "source": [
    "def riempi_sudoku():  #scambiamo righe e colonne lasciando comunque possibile la risoluzione\n",
    "    solution = [[1,2,3,4,5,6,7,8,9],[4,5,6,7,8,9,1,2,3],[7,8,9,1,2,3,4,5,6],[2,3,4,5,6,7,8,9,1],[5,6,7,8,9,1,2,3,4],[8,9,1,2,3,4,5,6,7],[3,4,5,6,7,8,9,1,2],[6,7,8,9,1,2,3,4,5],[9,1,2,3,4,5,6,7,8]]\n",
    "    \n",
    "    for i in range(30):\n",
    "        row1 = randint(0,2)\n",
    "        row2 = randint(0,2)\n",
    "        solution = switch_row(solution,row1,row2,0,2)\n",
    "        solution = switch_column(solution,row1,row2,0,2)\n",
    "    \n",
    "    for i in range(30):\n",
    "        row1 = randint(3,5)\n",
    "        row2 = randint(3,5)\n",
    "        solution = switch_row(solution,row1,row2,3,5)\n",
    "        solution = switch_column(solution,row1,row2,3,5)\n",
    "    \n",
    "    for i in range(30):\n",
    "        row1 = randint(6,8)\n",
    "        row2 = randint(6,8)\n",
    "        solution = switch_row(solution,row1,row2,6,8)\n",
    "        solution = switch_column(solution,row1,row2,6,8)\n",
    "        \n",
    "    return solution"
   ]
  },
  {
   "cell_type": "code",
   "execution_count": 35,
   "metadata": {},
   "outputs": [],
   "source": [
    "def switch_row(solution,row1,row2,i,j):\n",
    "    while(row2==row1):\n",
    "        row2 = randint(i,j)\n",
    "    tmp = solution[row1]\n",
    "    solution[row1] = solution[row2]\n",
    "    solution[row2] = tmp\n",
    "    \n",
    "    return solution"
   ]
  },
  {
   "cell_type": "code",
   "execution_count": 36,
   "metadata": {},
   "outputs": [],
   "source": [
    "def switch_column(solution,row1,row2,i,j):\n",
    "    while(row2==row1):\n",
    "        row2 = randint(i,j)\n",
    "    solution = trasponi(solution)\n",
    "    tmp = solution[row1]\n",
    "    solution[row1] = solution[row2]\n",
    "    solution[row2] = tmp\n",
    "    \n",
    "    return solution"
   ]
  },
  {
   "cell_type": "code",
   "execution_count": 65,
   "metadata": {},
   "outputs": [],
   "source": [
    "sudoku = riempi_sudoku()"
   ]
  },
  {
   "cell_type": "code",
   "execution_count": 66,
   "metadata": {},
   "outputs": [
    {
     "name": "stdout",
     "output_type": "stream",
     "text": [
      "[5, 6, 4, 9, 7, 8, 3, 1, 2]\n",
      "[8, 9, 7, 3, 1, 2, 6, 4, 5]\n",
      "[2, 3, 1, 6, 4, 5, 9, 7, 8]\n",
      "[3, 4, 2, 7, 5, 6, 1, 8, 9]\n",
      "[6, 7, 5, 1, 8, 9, 4, 2, 3]\n",
      "[9, 1, 8, 4, 2, 3, 7, 5, 6]\n",
      "[1, 2, 9, 5, 3, 4, 8, 6, 7]\n",
      "[4, 5, 3, 8, 6, 7, 2, 9, 1]\n",
      "[7, 8, 6, 2, 9, 1, 5, 3, 4]\n"
     ]
    }
   ],
   "source": [
    "print_sudoku(sudoku)"
   ]
  },
  {
   "cell_type": "code",
   "execution_count": 54,
   "metadata": {},
   "outputs": [],
   "source": [
    "#switchiamo alcuni valori"
   ]
  },
  {
   "cell_type": "code",
   "execution_count": 73,
   "metadata": {},
   "outputs": [],
   "source": [
    "def switch_values(sudoku):\n",
    "    conta = 0\n",
    "    while(conta<5): #per garantire una maggiore diversità\n",
    "        value1 = randint(1,9)\n",
    "        value2 = randint(1,9)\n",
    "        while(value2==value1):\n",
    "            value2 = randint(1,9)\n",
    "\n",
    "        for i in range(len(sudoku)):\n",
    "            for j in range(len(sudoku)):\n",
    "                if(sudoku[i][j]==value1):\n",
    "                    sudoku[i][j]=value2\n",
    "                elif(sudoku[i][j]==value2):\n",
    "                    sudoku[i][j]=value1\n",
    "        conta+=1\n",
    "    return sudoku"
   ]
  },
  {
   "cell_type": "code",
   "execution_count": 69,
   "metadata": {},
   "outputs": [
    {
     "data": {
      "text/plain": [
       "[[1, 9, 4, 5, 6, 3, 8, 7, 2],\n",
       " [3, 5, 6, 8, 7, 2, 9, 4, 1],\n",
       " [2, 8, 7, 9, 4, 1, 5, 6, 3],\n",
       " [8, 4, 2, 6, 1, 9, 7, 3, 5],\n",
       " [9, 6, 1, 7, 3, 5, 4, 2, 8],\n",
       " [5, 7, 3, 4, 2, 8, 6, 1, 9],\n",
       " [7, 2, 5, 1, 8, 4, 3, 9, 6],\n",
       " [4, 1, 8, 3, 9, 6, 2, 5, 7],\n",
       " [6, 3, 9, 2, 5, 7, 1, 8, 4]]"
      ]
     },
     "execution_count": 69,
     "output_type": "execute_result",
     "metadata": {}
    }
   ],
   "source": [
    "switch_values(sudoku)"
   ]
  },
  {
   "cell_type": "code",
   "execution_count": 86,
   "metadata": {},
   "outputs": [],
   "source": [
    "#now erase a number of cells\n",
    "#30-35 remaining cells --> easy \n",
    "#25-30 remaining cells --> intermediate\n",
    "#20-25 remaining cells --> difficult"
   ]
  },
  {
   "cell_type": "code",
   "execution_count": 71,
   "metadata": {},
   "outputs": [],
   "source": [
    "def erase(sudoku):\n",
    "    for i in range(60):\n",
    "        row = randint(0,8)\n",
    "        column = randint(0,8)\n",
    "        sudoku[row][column] = 0\n",
    "    return sudoku"
   ]
  },
  {
   "cell_type": "code",
   "execution_count": 72,
   "metadata": {},
   "outputs": [
    {
     "data": {
      "text/plain": [
       "[[0, 0, 0, 0, 0, 3, 8, 7, 0],\n",
       " [0, 0, 6, 0, 0, 0, 0, 0, 0],\n",
       " [0, 8, 7, 9, 0, 1, 0, 6, 0],\n",
       " [8, 4, 0, 6, 1, 0, 0, 3, 0],\n",
       " [9, 0, 0, 0, 3, 0, 4, 0, 0],\n",
       " [0, 0, 3, 4, 0, 0, 0, 0, 0],\n",
       " [0, 2, 5, 0, 8, 0, 0, 0, 6],\n",
       " [0, 0, 0, 0, 0, 6, 2, 0, 0],\n",
       " [0, 0, 0, 2, 5, 0, 0, 0, 0]]"
      ]
     },
     "execution_count": 72,
     "output_type": "execute_result",
     "metadata": {}
    }
   ],
   "source": [
    "erase(sudoku)"
   ]
  },
  {
   "cell_type": "code",
   "execution_count": null,
   "metadata": {},
   "outputs": [],
   "source": [
    ""
   ]
  }
 ],
 "metadata": {
  "kernelspec": {
   "display_name": "Python 2",
   "language": "python",
   "name": "python2"
  },
  "language_info": {
   "codemirror_mode": {
    "name": "ipython",
    "version": 2.0
   },
   "file_extension": ".py",
   "mimetype": "text/x-python",
   "name": "python",
   "nbconvert_exporter": "python",
   "pygments_lexer": "ipython2",
   "version": "2.7.9"
  }
 },
 "nbformat": 4,
 "nbformat_minor": 0
}